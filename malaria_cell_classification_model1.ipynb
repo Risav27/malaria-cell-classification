{
  "nbformat": 4,
  "nbformat_minor": 0,
  "metadata": {
    "colab": {
      "provenance": []
    },
    "kernelspec": {
      "name": "python3",
      "display_name": "Python 3"
    },
    "language_info": {
      "name": "python"
    }
  },
  "cells": [
    {
      "cell_type": "code",
      "execution_count": null,
      "metadata": {
        "colab": {
          "base_uri": "https://localhost:8080/"
        },
        "id": "zX3gekl3PqEb",
        "outputId": "948bfd49-ae3d-4b34-c7d1-0767aa635f76"
      },
      "outputs": [
        {
          "output_type": "stream",
          "name": "stdout",
          "text": [
            "Hello\n"
          ]
        }
      ],
      "source": [
        "print(\"Hello\")"
      ]
    },
    {
      "cell_type": "code",
      "source": [
        "# downlading dataset using kaggle api\n",
        "!kaggle datasets download -d iarunava/cell-images-for-detecting-malaria"
      ],
      "metadata": {
        "colab": {
          "base_uri": "https://localhost:8080/"
        },
        "id": "NpiJ5j9zQRGF",
        "outputId": "a0e7e6be-e679-426b-b2f4-2c63773c69ea"
      },
      "execution_count": null,
      "outputs": [
        {
          "output_type": "stream",
          "name": "stdout",
          "text": [
            "Dataset URL: https://www.kaggle.com/datasets/iarunava/cell-images-for-detecting-malaria\n",
            "License(s): unknown\n",
            "Downloading cell-images-for-detecting-malaria.zip to /content\n",
            "100% 674M/675M [00:10<00:00, 64.5MB/s]\n",
            "100% 675M/675M [00:10<00:00, 66.9MB/s]\n"
          ]
        }
      ]
    },
    {
      "cell_type": "code",
      "source": [
        "!mkdir Datasets"
      ],
      "metadata": {
        "id": "KBHeXt_wQa9g"
      },
      "execution_count": null,
      "outputs": []
    },
    {
      "cell_type": "code",
      "source": [
        "from zipfile import ZipFile\n",
        "import matplotlib.pyplot as plt"
      ],
      "metadata": {
        "id": "SXYyThR8QwTr"
      },
      "execution_count": null,
      "outputs": []
    },
    {
      "cell_type": "code",
      "source": [
        "with ZipFile('/content/cell-images-for-detecting-malaria.zip') as fp:\n",
        "  fp.extractall('/content/Datasets')"
      ],
      "metadata": {
        "id": "TvuhQ_KzQ2yj"
      },
      "execution_count": null,
      "outputs": []
    },
    {
      "cell_type": "code",
      "source": [
        "import os\n",
        "import cv2\n",
        "from google.colab.patches import cv2_imshow\n",
        "import numpy as np"
      ],
      "metadata": {
        "id": "X9UyCAszRIFJ"
      },
      "execution_count": null,
      "outputs": []
    },
    {
      "cell_type": "code",
      "source": [
        "print(len(os.listdir('/content/Datasets/cell_images/Parasitized')))\n",
        "print(len(os.listdir('/content/Datasets/cell_images/cell_images/Parasitized')))"
      ],
      "metadata": {
        "colab": {
          "base_uri": "https://localhost:8080/"
        },
        "id": "o41CIDp9RuIq",
        "outputId": "ec1b4732-c49c-4e61-e4a3-d6307b9f1406"
      },
      "execution_count": null,
      "outputs": [
        {
          "output_type": "stream",
          "name": "stdout",
          "text": [
            "13780\n",
            "13780\n"
          ]
        }
      ]
    },
    {
      "cell_type": "code",
      "source": [
        "l1 = os.listdir('/content/Datasets/cell_images/cell_images/Parasitized')\n",
        "l2 = os.listdir('/content/Datasets/cell_images/cell_images/Uninfected')"
      ],
      "metadata": {
        "id": "vdvsO6dHS8S7"
      },
      "execution_count": null,
      "outputs": []
    },
    {
      "cell_type": "code",
      "source": [
        "a = cv2.imread(os.path.join('/content/Datasets/cell_images/Parasitized' , l1[0]))\n",
        "b = cv2.imread(os.path.join('/content/Datasets/cell_images/cell_images/Uninfected' , l2[0]))\n",
        "cv2_imshow(a)\n",
        "cv2_imshow(b)"
      ],
      "metadata": {
        "colab": {
          "base_uri": "https://localhost:8080/",
          "height": 298
        },
        "id": "lhpWpMm3TfrB",
        "outputId": "35eebc99-57dd-4f7d-b0d2-880749997950"
      },
      "execution_count": null,
      "outputs": [
        {
          "output_type": "display_data",
          "data": {
            "text/plain": [
              "<PIL.Image.Image image mode=RGB size=133x151>"
            ],
            "image/png": "[encoded data removed]"
          },
          "metadata": {}
        },
        {
          "output_type": "display_data",
          "data": {
            "text/plain": [
              "<PIL.Image.Image image mode=RGB size=151x130>"
            ],
            "image/png": "[encoded data removed]"
          },
          "metadata": {}
        }
      ]
    },
    {
      "cell_type": "code",
      "source": [
        "imgs = [];\n",
        "for i in range(64):\n",
        "  a = cv2.imread(os.path.join('/content/Datasets/cell_images/cell_images/Parasitized' , l1[i]))\n",
        "  # b = cv2.imread(os.path.join('/content/Datasets/cell_images/cell_images/Uninfected' , l2[i]))\n",
        "  print(a.shape)"
      ],
      "metadata": {
        "colab": {
          "base_uri": "https://localhost:8080/"
        },
        "id": "8EtRThTqWO3S",
        "outputId": "726275f7-7581-4db9-db51-5378101b50d3"
      },
      "execution_count": null,
      "outputs": [
        {
          "output_type": "stream",
          "name": "stdout",
          "text": [
            "(103, 133, 3)\n",
            "(139, 130, 3)\n",
            "(103, 154, 3)\n",
            "(145, 142, 3)\n",
            "(133, 118, 3)\n",
            "(151, 148, 3)\n",
            "(145, 121, 3)\n",
            "(118, 124, 3)\n",
            "(166, 139, 3)\n",
            "(118, 121, 3)\n",
            "(214, 160, 3)\n",
            "(106, 172, 3)\n",
            "(82, 79, 3)\n",
            "(385, 247, 3)\n",
            "(151, 142, 3)\n",
            "(115, 124, 3)\n",
            "(136, 121, 3)\n",
            "(133, 151, 3)\n",
            "(133, 136, 3)\n",
            "(127, 136, 3)\n",
            "(145, 157, 3)\n",
            "(133, 133, 3)\n",
            "(52, 58, 3)\n",
            "(121, 178, 3)\n",
            "(154, 136, 3)\n",
            "(109, 130, 3)\n",
            "(136, 142, 3)\n",
            "(148, 142, 3)\n",
            "(130, 148, 3)\n",
            "(106, 133, 3)\n",
            "(85, 106, 3)\n",
            "(160, 118, 3)\n",
            "(172, 163, 3)\n",
            "(130, 127, 3)\n",
            "(142, 139, 3)\n",
            "(184, 112, 3)\n",
            "(142, 127, 3)\n",
            "(133, 148, 3)\n",
            "(115, 115, 3)\n",
            "(127, 112, 3)\n",
            "(127, 127, 3)\n",
            "(124, 118, 3)\n",
            "(145, 133, 3)\n",
            "(124, 133, 3)\n",
            "(121, 169, 3)\n",
            "(133, 118, 3)\n",
            "(76, 64, 3)\n",
            "(169, 154, 3)\n",
            "(166, 193, 3)\n",
            "(136, 136, 3)\n",
            "(133, 136, 3)\n",
            "(127, 133, 3)\n",
            "(193, 217, 3)\n",
            "(139, 136, 3)\n",
            "(109, 124, 3)\n",
            "(133, 142, 3)\n",
            "(172, 127, 3)\n",
            "(109, 124, 3)\n",
            "(139, 139, 3)\n",
            "(133, 130, 3)\n",
            "(100, 112, 3)\n",
            "(151, 130, 3)\n",
            "(163, 145, 3)\n",
            "(112, 103, 3)\n"
          ]
        }
      ]
    },
    {
      "cell_type": "code",
      "source": [
        "print(len(l1))\n",
        "print(len(l2))"
      ],
      "metadata": {
        "colab": {
          "base_uri": "https://localhost:8080/"
        },
        "id": "7j2lV0mJW5Yf",
        "outputId": "732bfee8-8261-40c8-c34d-cfbae87b7532"
      },
      "execution_count": null,
      "outputs": [
        {
          "output_type": "stream",
          "name": "stdout",
          "text": [
            "13780\n",
            "13780\n"
          ]
        }
      ]
    },
    {
      "cell_type": "code",
      "source": [
        "import tensorflow as tf\n",
        "from tensorflow import keras\n",
        "from keras.layers import *\n",
        "from keras.utils import image_dataset_from_directory , plot_model\n",
        "from keras.applications import VGG16"
      ],
      "metadata": {
        "id": "7YXhETDFawtt"
      },
      "execution_count": null,
      "outputs": []
    },
    {
      "cell_type": "code",
      "source": [
        "from keras.models import Sequential"
      ],
      "metadata": {
        "id": "NKvlSNJ9iuYT"
      },
      "execution_count": null,
      "outputs": []
    },
    {
      "cell_type": "code",
      "source": [
        "vgg_model = VGG16(\n",
        "    include_top=False,\n",
        "    input_shape=(128,128,3)\n",
        ")"
      ],
      "metadata": {
        "colab": {
          "base_uri": "https://localhost:8080/"
        },
        "id": "y30vNGCjiQp2",
        "outputId": "3860bfd6-60ab-4e91-ac4a-af60e047449d"
      },
      "execution_count": null,
      "outputs": [
        {
          "output_type": "stream",
          "name": "stdout",
          "text": [
            "Downloading data from https://storage.googleapis.com/tensorflow/keras-applications/vgg16/vgg16_weights_tf_dim_ordering_tf_kernels_notop.h5\n",
            "58889256/58889256 [==============================] - 0s 0us/step\n"
          ]
        }
      ]
    },
    {
      "cell_type": "code",
      "source": [
        "model = Sequential();\n",
        "model.add(vgg_model);\n",
        "model.add(Flatten());\n",
        "model.add(Dense(128 , activation='relu'))\n",
        "model.add(Dense(32 , activation = 'relu'))\n",
        "model.add(Dense(1 , activation='sigmoid'))"
      ],
      "metadata": {
        "id": "6TyHphnkisUA"
      },
      "execution_count": null,
      "outputs": []
    },
    {
      "cell_type": "code",
      "source": [
        "vgg_model.trainable = False;"
      ],
      "metadata": {
        "id": "0q4-RySytXed"
      },
      "execution_count": null,
      "outputs": []
    },
    {
      "cell_type": "code",
      "source": [
        "model.summary()"
      ],
      "metadata": {
        "colab": {
          "base_uri": "https://localhost:8080/"
        },
        "id": "9MBKf6PljGE1",
        "outputId": "6e49f54b-a1ae-45f4-e381-a40c474b9c77"
      },
      "execution_count": null,
      "outputs": [
        {
          "output_type": "stream",
          "name": "stdout",
          "text": [
            "Model: \"sequential\"\n",
            "_________________________________________________________________\n",
            " Layer (type)                Output Shape              Param #   \n",
            "=================================================================\n",
            " vgg16 (Functional)          (None, 4, 4, 512)         14714688  \n",
            "                                                                 \n",
            " flatten (Flatten)           (None, 8192)              0         \n",
            "                                                                 \n",
            " dense (Dense)               (None, 128)               1048704   \n",
            "                                                                 \n",
            " dense_1 (Dense)             (None, 32)                4128      \n",
            "                                                                 \n",
            " dense_2 (Dense)             (None, 1)                 33        \n",
            "                                                                 \n",
            "=================================================================\n",
            "Total params: 15767553 (60.15 MB)\n",
            "Trainable params: 1052865 (4.02 MB)\n",
            "Non-trainable params: 14714688 (56.13 MB)\n",
            "_________________________________________________________________\n"
          ]
        }
      ]
    },
    {
      "cell_type": "code",
      "source": [
        "plot_model(model)"
      ],
      "metadata": {
        "id": "X4SjI1rZj8g4",
        "colab": {
          "base_uri": "https://localhost:8080/",
          "height": 564
        },
        "outputId": "bf569924-57a1-4ced-bf5a-fe1d0c400b8b"
      },
      "execution_count": null,
      "outputs": [
        {
          "output_type": "execute_result",
          "data": {
            "image/png": "[encoded data removed]",
            "text/plain": [
              "<IPython.core.display.Image object>"
            ]
          },
          "metadata": {},
          "execution_count": 17
        }
      ]
    },
    {
      "cell_type": "code",
      "source": [
        "#generators\n",
        "\n",
        "train_ds = image_dataset_from_directory(\n",
        "    '/content/Datasets/cell_images/cell_images',\n",
        "    batch_size=32,\n",
        "    image_size=(128,128),\n",
        "    seed = 124,\n",
        "    validation_split=0.2,\n",
        "    subset='training'\n",
        ")\n",
        "val_ds = image_dataset_from_directory(\n",
        "    '/content/Datasets/cell_images/cell_images',\n",
        "    batch_size=32,\n",
        "    image_size=(128,128),\n",
        "    seed = 124,\n",
        "    validation_split=0.2,\n",
        "    subset='validation'\n",
        ")"
      ],
      "metadata": {
        "colab": {
          "base_uri": "https://localhost:8080/"
        },
        "id": "9wiV0IN3k7A_",
        "outputId": "a594a629-a533-46bf-a282-2c98ef7ad16c"
      },
      "execution_count": null,
      "outputs": [
        {
          "output_type": "stream",
          "name": "stdout",
          "text": [
            "Found 27558 files belonging to 2 classes.\n",
            "Using 22047 files for training.\n",
            "Found 27558 files belonging to 2 classes.\n",
            "Using 5511 files for validation.\n"
          ]
        }
      ]
    },
    {
      "cell_type": "code",
      "source": [
        "agum = Sequential([\n",
        "    RandomBrightness(0.1),\n",
        "    RandomContrast(0.2),\n",
        "    RandomFlip(),\n",
        "    RandomRotation(0.4 , fill_mode='nearest')\n",
        "])"
      ],
      "metadata": {
        "id": "aZYwK1uWlkUH"
      },
      "execution_count": null,
      "outputs": []
    },
    {
      "cell_type": "code",
      "source": [
        "def train_process(img , lbl):\n",
        "  img = agum(img);\n",
        "  img = tf.cast(img/255. , tf.float32);\n",
        "  return img , lbl\n",
        "def valid_process(img , lbl):\n",
        "  img = tf.cast(img/255. , tf.float32);\n",
        "  return img , lbl;\n"
      ],
      "metadata": {
        "id": "6PeLyanNpQ-T"
      },
      "execution_count": null,
      "outputs": []
    },
    {
      "cell_type": "code",
      "source": [
        "process_train_ds = train_ds.map(train_process)\n",
        "process_val_ds = val_ds.map(valid_process)"
      ],
      "metadata": {
        "id": "S9Bt3Lazphad"
      },
      "execution_count": null,
      "outputs": []
    },
    {
      "cell_type": "code",
      "source": [
        "model.compile(optimizer = 'adam' , loss='binary_crossentropy' , metrics=['accuracy'])"
      ],
      "metadata": {
        "id": "NParlMFcrGvy"
      },
      "execution_count": null,
      "outputs": []
    },
    {
      "cell_type": "code",
      "source": [
        "history = model.fit(process_train_ds , epochs=25 , verbose=1 , validation_data=process_val_ds)"
      ],
      "metadata": {
        "colab": {
          "base_uri": "https://localhost:8080/"
        },
        "id": "aoV14W3trux0",
        "outputId": "e3dcbc9b-98fb-4eae-f710-88ae37b31c5d"
      },
      "execution_count": null,
      "outputs": [
        {
          "output_type": "stream",
          "name": "stdout",
          "text": [
            "Epoch 1/25\n",
            "689/689 [==============================] - 76s 108ms/step - loss: 0.2503 - accuracy: 0.9024 - val_loss: 0.1856 - val_accuracy: 0.9265\n",
            "Epoch 2/25\n",
            "689/689 [==============================] - 78s 113ms/step - loss: 0.1898 - accuracy: 0.9287 - val_loss: 0.1688 - val_accuracy: 0.9338\n",
            "Epoch 3/25\n",
            "689/689 [==============================] - 73s 105ms/step - loss: 0.1805 - accuracy: 0.9348 - val_loss: 0.1680 - val_accuracy: 0.9358\n",
            "Epoch 4/25\n",
            "689/689 [==============================] - 74s 106ms/step - loss: 0.1753 - accuracy: 0.9349 - val_loss: 0.1840 - val_accuracy: 0.9254\n",
            "Epoch 5/25\n",
            "689/689 [==============================] - 74s 108ms/step - loss: 0.1684 - accuracy: 0.9378 - val_loss: 0.1590 - val_accuracy: 0.9401\n",
            "Epoch 6/25\n",
            "689/689 [==============================] - 73s 106ms/step - loss: 0.1669 - accuracy: 0.9377 - val_loss: 0.1750 - val_accuracy: 0.9294\n",
            "Epoch 7/25\n",
            "689/689 [==============================] - 71s 103ms/step - loss: 0.1631 - accuracy: 0.9398 - val_loss: 0.2811 - val_accuracy: 0.8948\n",
            "Epoch 8/25\n",
            "689/689 [==============================] - 73s 106ms/step - loss: 0.1624 - accuracy: 0.9411 - val_loss: 0.1561 - val_accuracy: 0.9405\n",
            "Epoch 9/25\n",
            "689/689 [==============================] - 74s 108ms/step - loss: 0.1611 - accuracy: 0.9411 - val_loss: 0.1467 - val_accuracy: 0.9439\n",
            "Epoch 10/25\n",
            "689/689 [==============================] - 75s 109ms/step - loss: 0.1542 - accuracy: 0.9443 - val_loss: 0.1776 - val_accuracy: 0.9343\n",
            "Epoch 11/25\n",
            "689/689 [==============================] - 70s 101ms/step - loss: 0.1585 - accuracy: 0.9411 - val_loss: 0.1567 - val_accuracy: 0.9398\n",
            "Epoch 12/25\n",
            "689/689 [==============================] - 77s 111ms/step - loss: 0.1549 - accuracy: 0.9415 - val_loss: 0.2083 - val_accuracy: 0.9207\n",
            "Epoch 13/25\n",
            "689/689 [==============================] - 70s 101ms/step - loss: 0.1501 - accuracy: 0.9458 - val_loss: 0.1440 - val_accuracy: 0.9454\n",
            "Epoch 14/25\n",
            "689/689 [==============================] - 72s 104ms/step - loss: 0.1547 - accuracy: 0.9428 - val_loss: 0.1455 - val_accuracy: 0.9448\n",
            "Epoch 15/25\n",
            "689/689 [==============================] - 73s 105ms/step - loss: 0.1483 - accuracy: 0.9446 - val_loss: 0.1440 - val_accuracy: 0.9450\n",
            "Epoch 16/25\n",
            "689/689 [==============================] - 76s 110ms/step - loss: 0.1464 - accuracy: 0.9458 - val_loss: 0.1483 - val_accuracy: 0.9472\n",
            "Epoch 17/25\n",
            "689/689 [==============================] - 75s 109ms/step - loss: 0.1523 - accuracy: 0.9433 - val_loss: 0.1458 - val_accuracy: 0.9445\n",
            "Epoch 18/25\n",
            "689/689 [==============================] - 74s 107ms/step - loss: 0.1460 - accuracy: 0.9467 - val_loss: 0.1809 - val_accuracy: 0.9318\n",
            "Epoch 19/25\n",
            "689/689 [==============================] - 74s 107ms/step - loss: 0.1483 - accuracy: 0.9462 - val_loss: 0.1771 - val_accuracy: 0.9332\n",
            "Epoch 20/25\n",
            "689/689 [==============================] - 77s 112ms/step - loss: 0.1461 - accuracy: 0.9464 - val_loss: 0.1460 - val_accuracy: 0.9454\n",
            "Epoch 21/25\n",
            "689/689 [==============================] - 73s 106ms/step - loss: 0.1431 - accuracy: 0.9466 - val_loss: 0.1707 - val_accuracy: 0.9300\n",
            "Epoch 22/25\n",
            "689/689 [==============================] - 73s 106ms/step - loss: 0.1441 - accuracy: 0.9463 - val_loss: 0.1508 - val_accuracy: 0.9450\n",
            "Epoch 23/25\n",
            "689/689 [==============================] - 71s 102ms/step - loss: 0.1447 - accuracy: 0.9464 - val_loss: 0.1352 - val_accuracy: 0.9499\n",
            "Epoch 24/25\n",
            "689/689 [==============================] - 73s 106ms/step - loss: 0.1430 - accuracy: 0.9460 - val_loss: 0.1553 - val_accuracy: 0.9396\n",
            "Epoch 25/25\n",
            "689/689 [==============================] - 75s 109ms/step - loss: 0.1410 - accuracy: 0.9484 - val_loss: 0.1429 - val_accuracy: 0.9467\n"
          ]
        }
      ]
    },
    {
      "cell_type": "code",
      "source": [
        "import pickle\n",
        "\n",
        "# save the iris classification model as a pickle file\n",
        "model_pkl_file = \"malaria-classification.pkl\"\n",
        "\n",
        "with open(model_pkl_file, 'wb') as file:\n",
        "    pickle.dump(model, file)"
      ],
      "metadata": {
        "id": "30LX9B8RsWry"
      },
      "execution_count": null,
      "outputs": []
    },
    {
      "cell_type": "code",
      "source": [
        "model.save('malaria-classification.keras')"
      ],
      "metadata": {
        "id": "KzCqcCC13Sxk"
      },
      "execution_count": null,
      "outputs": []
    },
    {
      "cell_type": "code",
      "source": [
        "\n",
        "\n",
        "\n",
        "# train_96 , val_96 = endless((96,96))\n",
        "# train_64 , val_64 = endless((64 , 64))\n",
        "# train_32 , val_32 = endless((32 , 32))\n",
        "# train_28 , val_28 = endless((28 , 28))\n",
        "\n",
        "# train_comb = tf.data.Dataset.sample_from_datasets(\n",
        "#     [train_96, train_64, train_32 , train_28]\n",
        "# )\n",
        "# val_comb = tf.data.Dataset.sample_from_datasets(\n",
        "#     [val_96 , val_64 , val_32 , val_28]\n",
        "# )\n"
      ],
      "metadata": {
        "id": "COW095fh5Z7A"
      },
      "execution_count": null,
      "outputs": []
    }
  ]
}